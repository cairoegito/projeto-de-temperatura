{
  "nbformat": 4,
  "nbformat_minor": 0,
  "metadata": {
    "colab": {
      "name": "programa.temperatura.ipynb",
      "provenance": [],
      "authorship_tag": "ABX9TyPxpXi6Y4kqJYsZwLIu9TfQ",
      "include_colab_link": true
    },
    "kernelspec": {
      "name": "python3",
      "display_name": "Python 3"
    },
    "language_info": {
      "name": "python"
    }
  },
  "cells": [
    {
      "cell_type": "markdown",
      "metadata": {
        "id": "view-in-github",
        "colab_type": "text"
      },
      "source": [
        "<a href=\"https://colab.research.google.com/github/cairoegito/projeto-de-temperatura/blob/main/programa_temperatura.ipynb\" target=\"_parent\"><img src=\"https://colab.research.google.com/assets/colab-badge.svg\" alt=\"Open In Colab\"/></a>"
      ]
    },
    {
      "cell_type": "code",
      "source": [
        "import statistics\n",
        "quantidade = int(input(\"Digite quantas temperaturas irá analisar em Kelvin (K):\"))\n",
        "possibilidades = []\n",
        "\n",
        "for c in range (quantidade):\n",
        "  possibilidades.append(float(input(f\"Digite a temperatura K {c+1}: \")))\n",
        "\n",
        "possibilidades.sort()\n",
        "print(f\"As temperaturas em ordem crescente serão {possibilidades}!\")\n",
        "\n",
        "mediana = statistics.median(possibilidades)\n",
        "print(f\"A minha mediana das temperaturas será {mediana}!\")\n",
        "\n",
        "media = statistics.mean(possibilidades)\n",
        "print(f\"A minha média aritmética das temperaturas será {media}!\")\n",
        "\n",
        "#Necessitamos  \"chamar\" a biblioteca para utilizar as fórmulas estatísticas\n",
        "\n",
        "# Precisamos de uma variável que receba uma lista vazia para depois utilizarmos a função sort, a mesma exige isso\n",
        "\n",
        "#Precisamos do loop para repetir o input N vezes definido na variável quantidade"
      ],
      "metadata": {
        "colab": {
          "base_uri": "https://localhost:8080/"
        },
        "id": "u7e7N-KFuRgQ",
        "outputId": "e0f9d429-ff6d-4e9a-e4e3-babef6258c8c"
      },
      "execution_count": 20,
      "outputs": [
        {
          "output_type": "stream",
          "name": "stdout",
          "text": [
            "Digite quantas temperaturas irá analisar em Kelvin (K):4\n",
            "Digite a temperatura K 1: 10\n",
            "Digite a temperatura K 2: 20\n",
            "Digite a temperatura K 3: 40\n",
            "Digite a temperatura K 4: 30\n",
            "As temperaturas em ordem crescente serão [10.0, 20.0, 30.0, 40.0]!\n",
            "A minha mediana das temperaturas será 25.0!\n",
            "A minha média aritmética das temperaturas será25.0!\n"
          ]
        }
      ]
    }
  ]
}